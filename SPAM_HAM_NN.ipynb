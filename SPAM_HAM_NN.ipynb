{
  "cells": [
    {
      "cell_type": "markdown",
      "metadata": {
        "id": "view-in-github",
        "colab_type": "text"
      },
      "source": [
        "<a href=\"https://colab.research.google.com/github/samhzc/Summer-2025-ECE-597-Group10/blob/main/SPAM_HAM_NN.ipynb\" target=\"_parent\"><img src=\"https://colab.research.google.com/assets/colab-badge.svg\" alt=\"Open In Colab\"/></a>"
      ]
    },
    {
      "cell_type": "code",
      "execution_count": 11,
      "metadata": {
        "id": "UwC7hPgCbsJM"
      },
      "outputs": [],
      "source": [
        "import pandas as pd"
      ]
    },
    {
      "cell_type": "code",
      "execution_count": null,
      "metadata": {
        "colab": {
          "background_save": true
        },
        "id": "wUDdOEsxbY12",
        "outputId": "540ab394-aa23-4012-f5aa-69c56f59b927"
      },
      "outputs": [
        {
          "name": "stdout",
          "output_type": "stream",
          "text": [
            "Drive already mounted at /content/drive; to attempt to forcibly remount, call drive.mount(\"/content/drive\", force_remount=True).\n"
          ]
        }
      ],
      "source": [
        "from google.colab import drive\n",
        "drive.mount('/content/drive')\n",
        "\n",
        "import pandas as pd\n",
        "\n",
        "train_path = \"/content/drive/MyDrive/Collab_Files/SPAM/SPAM_Final_Dataset/train_df.csv\"\n",
        "test_path = \"/content/drive/MyDrive/Collab_Files/SPAM/SPAM_Final_Dataset/test_df.csv\"\n",
        "\n",
        "train_df = pd.read_csv(train_path)\n",
        "test_df = pd.read_csv(test_path)"
      ]
    },
    {
      "cell_type": "code",
      "execution_count": null,
      "metadata": {
        "colab": {
          "background_save": true
        },
        "id": "lYKbmqFXP6LO",
        "outputId": "740dd639-f5a5-49ec-99ee-dcadd92f4702"
      },
      "outputs": [
        {
          "name": "stderr",
          "output_type": "stream",
          "text": [
            "/tmp/ipython-input-8-2348886912.py:1: FutureWarning: A value is trying to be set on a copy of a DataFrame or Series through chained assignment using an inplace method.\n",
            "The behavior will change in pandas 3.0. This inplace method will never work because the intermediate object on which we are setting values always behaves as a copy.\n",
            "\n",
            "For example, when doing 'df[col].method(value, inplace=True)', try using 'df.method({col: value}, inplace=True)' or df[col] = df[col].method(value) instead, to perform the operation inplace on the original object.\n",
            "\n",
            "\n",
            "  train_df['text'].fillna(\"\", inplace=True)\n",
            "/tmp/ipython-input-8-2348886912.py:2: FutureWarning: A value is trying to be set on a copy of a DataFrame or Series through chained assignment using an inplace method.\n",
            "The behavior will change in pandas 3.0. This inplace method will never work because the intermediate object on which we are setting values always behaves as a copy.\n",
            "\n",
            "For example, when doing 'df[col].method(value, inplace=True)', try using 'df.method({col: value}, inplace=True)' or df[col] = df[col].method(value) instead, to perform the operation inplace on the original object.\n",
            "\n",
            "\n",
            "  test_df['text'].fillna(\"\", inplace=True)\n"
          ]
        }
      ],
      "source": [
        "train_df['text'].fillna(\"\", inplace=True)\n",
        "test_df['text'].fillna(\"\", inplace=True)"
      ]
    },
    {
      "cell_type": "code",
      "execution_count": null,
      "metadata": {
        "colab": {
          "background_save": true
        },
        "id": "ulApMFCAP-uw"
      },
      "outputs": [],
      "source": [
        "from sklearn.feature_extraction.text import CountVectorizer\n",
        "\n",
        "vectorizer = CountVectorizer()\n",
        "X_train = vectorizer.fit_transform(train_df[\"text\"])\n",
        "X_test = vectorizer.transform(test_df[\"text\"])\n",
        "\n",
        "y_train = train_df[\"label_num\"]\n",
        "y_test = test_df[\"label_num\"]"
      ]
    },
    {
      "cell_type": "code",
      "execution_count": null,
      "metadata": {
        "id": "0azgvZuUQJv6"
      },
      "outputs": [],
      "source": [
        "from sklearn.neural_network import MLPClassifier\n",
        "\n",
        "model = MLPClassifier(hidden_layer_sizes=(100,), activation='relu', solver='adam', max_iter=300)\n",
        "model.fit(X_train, y_train)"
      ]
    },
    {
      "cell_type": "code",
      "execution_count": null,
      "metadata": {
        "colab": {
          "background_save": true
        },
        "id": "Se5CAKwjQW5H",
        "outputId": "830347f6-b3cb-4277-ba95-972069027116"
      },
      "outputs": [
        {
          "name": "stdout",
          "output_type": "stream",
          "text": [
            "[[3880   80]\n",
            " [  45 4244]]\n",
            "              precision    recall  f1-score   support\n",
            "\n",
            "           0       0.99      0.98      0.98      3960\n",
            "           1       0.98      0.99      0.99      4289\n",
            "\n",
            "    accuracy                           0.98      8249\n",
            "   macro avg       0.99      0.98      0.98      8249\n",
            "weighted avg       0.98      0.98      0.98      8249\n",
            "\n",
            "Accuracy: 0.9848466480785549\n",
            "Precision: 0.9814986123959297\n",
            "Recall: 0.9895080438330613\n",
            "AUC ROC Curve: 0.9846530118155206\n"
          ]
        }
      ],
      "source": [
        "from sklearn.metrics import classification_report, confusion_matrix\n",
        "\n",
        "y_pred = model.predict(X_test)\n",
        "\n",
        "print(confusion_matrix(y_test, y_pred))\n",
        "print(classification_report(y_test, y_pred))\n",
        "\n",
        "# Accuracy\n",
        "print(\"Accuracy:\", model.score(X_test, y_test))\n",
        "\n",
        "# Precision\n",
        "from sklearn.metrics import precision_score\n",
        "print(\"Precision:\", precision_score(y_test, y_pred))\n",
        "\n",
        "# Recall\n",
        "from sklearn.metrics import recall_score\n",
        "print(\"Recall:\", recall_score(y_test, y_pred))\n",
        "\n",
        "# AUC ROC Curve\n",
        "from sklearn.metrics import roc_auc_score\n",
        "print(\"AUC ROC Curve:\", roc_auc_score(y_test, y_pred))"
      ]
    }
  ],
  "metadata": {
    "colab": {
      "provenance": [],
      "authorship_tag": "ABX9TyOedby9S/do0Gim2GWCHrJb",
      "include_colab_link": true
    },
    "kernelspec": {
      "display_name": "Python 3",
      "name": "python3"
    },
    "language_info": {
      "name": "python"
    }
  },
  "nbformat": 4,
  "nbformat_minor": 0
}