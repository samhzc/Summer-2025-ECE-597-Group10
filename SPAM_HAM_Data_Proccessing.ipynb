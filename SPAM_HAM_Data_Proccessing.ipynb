{
  "nbformat": 4,
  "nbformat_minor": 0,
  "metadata": {
    "colab": {
      "provenance": [],
      "authorship_tag": "ABX9TyMGB1I4fMXwJZSXWSuIM7Sh",
      "include_colab_link": true
    },
    "kernelspec": {
      "name": "python3",
      "display_name": "Python 3"
    },
    "language_info": {
      "name": "python"
    }
  },
  "cells": [
    {
      "cell_type": "markdown",
      "metadata": {
        "id": "view-in-github",
        "colab_type": "text"
      },
      "source": [
        "<a href=\"https://colab.research.google.com/github/samhzc/Summer-2025-ECE-597-Group10/blob/main/SPAM_HAM_Data_Proccessing.ipynb\" target=\"_parent\"><img src=\"https://colab.research.google.com/assets/colab-badge.svg\" alt=\"Open In Colab\"/></a>"
      ]
    },
    {
      "cell_type": "markdown",
      "source": [
        "# SPAM/HAM Data Proccessing\n",
        "### Overview\n",
        "This notebook performs data preproccesing, partitioning and feature extraction for SPAM/HAM classification. It then performs a basic POC naives bayes classification.\n",
        "\n",
        "### Link to Output Data\n",
        "https://drive.google.com/drive/folders/1-brvtaq8TE4hl7w5rx1o7Xcq3x59Jn3A?usp=sharing\n",
        "\n",
        "### Preproccesing\n",
        "The data proccessing removes special characters, addresses and URLs, lowercases every character, removes stopwords and performs lemmatization.\n",
        "\n",
        "### Feature Extraction\n",
        "The vocabulary set is pruned to include the 99th percentile of vocabulary based on per class tf-idf score."
      ],
      "metadata": {
        "id": "AyblMovxaKzf"
      }
    },
    {
      "cell_type": "code",
      "source": [
        "import kagglehub\n",
        "import pandas as pd\n",
        "import numpy as np\n",
        "import nltk\n",
        "import re\n",
        "from nltk.tokenize import word_tokenize\n",
        "from nltk.corpus import stopwords\n",
        "from nltk.stem import WordNetLemmatizer\n",
        "nltk.download('punkt_tab')\n",
        "nltk.download('stopwords')\n",
        "nltk.download('wordnet')\n",
        "from sklearn.model_selection import train_test_split"
      ],
      "metadata": {
        "colab": {
          "base_uri": "https://localhost:8080/"
        },
        "id": "atno1h8BaT3F",
        "outputId": "866aa1fd-ec80-40a3-a314-fc5c0bd2918b"
      },
      "execution_count": 1,
      "outputs": [
        {
          "output_type": "stream",
          "name": "stderr",
          "text": [
            "[nltk_data] Downloading package punkt_tab to /root/nltk_data...\n",
            "[nltk_data]   Unzipping tokenizers/punkt_tab.zip.\n",
            "[nltk_data] Downloading package stopwords to /root/nltk_data...\n",
            "[nltk_data]   Unzipping corpora/stopwords.zip.\n",
            "[nltk_data] Downloading package wordnet to /root/nltk_data...\n"
          ]
        }
      ]
    },
    {
      "cell_type": "code",
      "source": [
        "# Final Dataset source from: https://www.kaggle.com/datasets/naserabdullahalam/phishing-email-dataset?select=phishing_email.csv\n",
        "from google.colab import drive\n",
        "drive.mount('/content/drive')\n",
        "\n",
        "df = pd.read_csv('/content/drive/MyDrive/Collab_Files/SPAM/SPAM_Final_Dataset/archive/phishing_email.csv')"
      ],
      "metadata": {
        "colab": {
          "base_uri": "https://localhost:8080/"
        },
        "id": "nHf3LHXUaYin",
        "outputId": "4f192981-c911-4378-d49b-d5c4bc3d4347"
      },
      "execution_count": 2,
      "outputs": [
        {
          "output_type": "stream",
          "name": "stdout",
          "text": [
            "Mounted at /content/drive\n"
          ]
        }
      ]
    },
    {
      "cell_type": "code",
      "source": [
        "df['text'] = df['text_combined']\n",
        "df = df.drop(columns=['text_combined'])\n",
        "df['text'] = df['text'].str.lower()\n",
        "\n",
        "# Clean URLs special characters\n",
        "def clean_text(text):\n",
        "    text = re.sub(r'\\S+@\\S+', ' ', text)  # remove email addresses\n",
        "    text = re.sub(r'http\\S+|www\\S+', ' ', text)  # remove URLs\n",
        "    text = re.sub(r'\\d+', ' ', text)  # remove numbers\n",
        "    text = re.sub(r'[^\\w\\s]', ' ', text)  # remove punctuation\n",
        "    text = re.sub(r'\\s+', ' ', text).strip()  # remove extra whitespace\n",
        "    text = re.sub(r'subject', '', text).strip()# remove subject\n",
        "    return text\n",
        "\n",
        "df['text'] = df['text'].apply(clean_text)\n",
        "\n",
        "# Stop words + Lemmatization = Tokenize\n",
        "stop_words = set(stopwords.words('english'))\n",
        "lemmatizer = WordNetLemmatizer()\n",
        "\n",
        "def tokenize_and_lemmatize(text):\n",
        "    tokens = nltk.word_tokenize(text)\n",
        "    tokens = [lemmatizer.lemmatize(word) for word in tokens if word not in stop_words]\n",
        "    return ' '.join(tokens)\n",
        "\n",
        "df['text'] = df['text'].apply(tokenize_and_lemmatize)\n",
        "df['label_num'] = df['label']\n",
        "df.drop(columns=['label'], inplace=True)"
      ],
      "metadata": {
        "id": "RH0irv7OaZqk"
      },
      "execution_count": 4,
      "outputs": []
    },
    {
      "cell_type": "markdown",
      "source": [
        "### Train Test Split\n"
      ],
      "metadata": {
        "id": "iPshFBOCafBc"
      }
    },
    {
      "cell_type": "code",
      "source": [
        "X = df['text']\n",
        "y = df['label_num']\n",
        "\n",
        "X_train, X_test, y_train, y_test = train_test_split(\n",
        "    X, y,\n",
        "    test_size=0.1,\n",
        "    random_state=42,\n",
        "    stratify=y  # Keeps class distribution balanced\n",
        ")"
      ],
      "metadata": {
        "id": "tNNV3M2LafwP"
      },
      "execution_count": 5,
      "outputs": []
    },
    {
      "cell_type": "markdown",
      "source": [
        "### Generate Class wise TF-IDF Rankings using Train Set to Prune Vocab"
      ],
      "metadata": {
        "id": "Y266i_LJakFI"
      }
    },
    {
      "cell_type": "code",
      "source": [
        "def pruned_vocab(input_data, percentile):\n",
        "  # Build vocabulary set\n",
        "  V = set()\n",
        "  idf = {}\n",
        "  tf = {}\n",
        "\n",
        "  for i in range(len(input_data)):\n",
        "    terms = input_data.iloc[i].split()\n",
        "    V.update(terms)\n",
        "    tf[i] = {}\n",
        "    for term in terms:\n",
        "        if term not in idf:\n",
        "            idf[term] = 0\n",
        "        idf[term] += 1\n",
        "\n",
        "        if term not in tf[i]:\n",
        "            tf[i][term] = 0\n",
        "        tf[i][term] += 1\n",
        "\n",
        "  # Generate IDF for each term by dividing by total number of documents\n",
        "  N = len(input_data)\n",
        "  for term in idf:\n",
        "      idf[term] = np.log(N / idf[term])\n",
        "\n",
        "  # Find TF-IDF threshold (Xth percentile)\n",
        "  #print(len(input_data))\n",
        "  tf_idfs = []\n",
        "  for i in range(len(input_data)):\n",
        "      for term in tf[i]:\n",
        "          tf_idfs.append(tf[i][term] * idf[term])\n",
        "\n",
        "  threshold = np.percentile(tf_idfs, percentile)\n",
        "\n",
        "  # prune by tf-idf\n",
        "  V_pruned = set()\n",
        "  for i in range(len(input_data)):\n",
        "      for term in tf[i]:\n",
        "          tf_idf = tf[i][term] * idf[term]\n",
        "          if tf_idf >= threshold:\n",
        "              V_pruned.add(term)\n",
        "  print(\"Original Vocab Size:\", len(V))\n",
        "  print(\"Pruned Vocab Size:\", len(V_pruned))\n",
        "  return V_pruned"
      ],
      "metadata": {
        "id": "Izo1DMU2aiRI"
      },
      "execution_count": 6,
      "outputs": []
    },
    {
      "cell_type": "code",
      "source": [
        "# Get SPAM pruned Vocab\n",
        "train_spam = X_train[y_train == 1]\n",
        "V_spam = pruned_vocab(train_spam, 99)\n",
        "\n",
        "# Get Ham pruned Vocab\n",
        "train_ham = X_train[y_train == 0]\n",
        "V_ham = pruned_vocab(train_ham, 99)\n",
        "\n",
        "# Combine Spam and Ham Vocab\n",
        "V = V_spam.union(V_ham)"
      ],
      "metadata": {
        "colab": {
          "base_uri": "https://localhost:8080/"
        },
        "id": "L3_DXk7DamLj",
        "outputId": "40bd27c5-890f-42a8-83fb-7b7133ee569e"
      },
      "execution_count": 7,
      "outputs": [
        {
          "output_type": "stream",
          "name": "stdout",
          "text": [
            "Original Vocab Size: 518326\n",
            "Pruned Vocab Size: 21818\n",
            "Original Vocab Size: 195216\n",
            "Pruned Vocab Size: 14278\n"
          ]
        }
      ]
    },
    {
      "cell_type": "markdown",
      "source": [
        "### Export Proccessed and Pruned Data set"
      ],
      "metadata": {
        "id": "3ej1Xs5rapXA"
      }
    },
    {
      "cell_type": "code",
      "source": [
        "# Clear Nans\n",
        "X_train = X_train.fillna('')\n",
        "X_test = X_test.fillna('')\n",
        "\n",
        "# Loop through train data\n",
        "for i in range(len(X_train)):\n",
        "  terms = X_train.iloc[i].split()\n",
        "  # Remove all terms not in pruned vocabulary\n",
        "  X_train.iloc[i] = ' '.join([term for term in terms if term in V])\n",
        "\n",
        "# append labels into df\n",
        "train_df = pd.concat([X_train, y_train], axis=1)\n",
        "# Export as csv\n",
        "pd.DataFrame(train_df).to_csv('/content/drive/MyDrive/Collab_Files/SPAM/SPAM_Final_Dataset/train_df.csv', index=False)\n",
        "\n",
        "# Loop through test data\n",
        "for i in range(len(X_test)):\n",
        "  terms = X_test.iloc[i].split()\n",
        "  # Remove all terms not in pruned vocabulary\n",
        "  X_test.iloc[i] = ' '.join([term for term in terms if term in V])\n",
        "\n",
        "# append labels into df\n",
        "test_df = pd.concat([X_test, y_test], axis=1)\n",
        "# Export as csv\n",
        "pd.DataFrame(test_df).to_csv('/content/drive/MyDrive/Collab_Files/SPAM/SPAM_Final_Dataset/test_df.csv', index=False)"
      ],
      "metadata": {
        "id": "mFXLXNgWaqXc"
      },
      "execution_count": 8,
      "outputs": []
    }
  ]
}