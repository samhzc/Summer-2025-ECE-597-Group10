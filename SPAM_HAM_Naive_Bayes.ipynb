{
  "nbformat": 4,
  "nbformat_minor": 0,
  "metadata": {
    "colab": {
      "provenance": [],
      "authorship_tag": "ABX9TyOtqHnzsE3P8j+qZo4E4PLQ",
      "include_colab_link": true
    },
    "kernelspec": {
      "name": "python3",
      "display_name": "Python 3"
    },
    "language_info": {
      "name": "python"
    }
  },
  "cells": [
    {
      "cell_type": "markdown",
      "metadata": {
        "id": "view-in-github",
        "colab_type": "text"
      },
      "source": [
        "<a href=\"https://colab.research.google.com/github/samhzc/Summer-2025-ECE-597-Group10/blob/main/SPAM_HAM_Naive_Bayes.ipynb\" target=\"_parent\"><img src=\"https://colab.research.google.com/assets/colab-badge.svg\" alt=\"Open In Colab\"/></a>"
      ]
    },
    {
      "cell_type": "markdown",
      "source": [
        "# SPAM/HAM_Naive_Bayes"
      ],
      "metadata": {
        "id": "v06c4EgocVc2"
      }
    },
    {
      "cell_type": "code",
      "source": [
        "from google.colab import drive\n",
        "drive.mount('/content/drive')"
      ],
      "metadata": {
        "colab": {
          "base_uri": "https://localhost:8080/"
        },
        "id": "iPaIKG4qcWz-",
        "outputId": "7817f41f-18fd-4c3d-c7ea-3db52057af4e"
      },
      "execution_count": 1,
      "outputs": [
        {
          "output_type": "stream",
          "name": "stdout",
          "text": [
            "Mounted at /content/drive\n"
          ]
        }
      ]
    },
    {
      "cell_type": "code",
      "source": [
        "import pandas as pd\n",
        "\n",
        "train_path = \"/content/drive/MyDrive/Collab_Files/SPAM/SPAM_Final_Dataset/train_df.csv\"\n",
        "test_path = \"/content/drive/MyDrive/Collab_Files/SPAM/SPAM_Final_Dataset/test_df.csv\"\n",
        "\n",
        "train_df = pd.read_csv(train_path)\n",
        "test_df = pd.read_csv(test_path)"
      ],
      "metadata": {
        "id": "xgB3l53_cXSl"
      },
      "execution_count": 2,
      "outputs": []
    },
    {
      "cell_type": "code",
      "source": [
        "train_df['text'].fillna(\"\", inplace=True)\n",
        "test_df['text'].fillna(\"\", inplace=True)"
      ],
      "metadata": {
        "colab": {
          "base_uri": "https://localhost:8080/"
        },
        "id": "o1Ma4JUgcZZF",
        "outputId": "63c029c1-5543-4073-ce97-fcefc5afb876"
      },
      "execution_count": 3,
      "outputs": [
        {
          "output_type": "stream",
          "name": "stderr",
          "text": [
            "/tmp/ipython-input-3-2348886912.py:1: FutureWarning: A value is trying to be set on a copy of a DataFrame or Series through chained assignment using an inplace method.\n",
            "The behavior will change in pandas 3.0. This inplace method will never work because the intermediate object on which we are setting values always behaves as a copy.\n",
            "\n",
            "For example, when doing 'df[col].method(value, inplace=True)', try using 'df.method({col: value}, inplace=True)' or df[col] = df[col].method(value) instead, to perform the operation inplace on the original object.\n",
            "\n",
            "\n",
            "  train_df['text'].fillna(\"\", inplace=True)\n",
            "/tmp/ipython-input-3-2348886912.py:2: FutureWarning: A value is trying to be set on a copy of a DataFrame or Series through chained assignment using an inplace method.\n",
            "The behavior will change in pandas 3.0. This inplace method will never work because the intermediate object on which we are setting values always behaves as a copy.\n",
            "\n",
            "For example, when doing 'df[col].method(value, inplace=True)', try using 'df.method({col: value}, inplace=True)' or df[col] = df[col].method(value) instead, to perform the operation inplace on the original object.\n",
            "\n",
            "\n",
            "  test_df['text'].fillna(\"\", inplace=True)\n"
          ]
        }
      ]
    },
    {
      "cell_type": "code",
      "source": [
        "from sklearn.feature_extraction.text import CountVectorizer\n",
        "\n",
        "vectorizer = CountVectorizer()\n",
        "X_train = vectorizer.fit_transform(train_df[\"text\"])\n",
        "X_test = vectorizer.transform(test_df[\"text\"])\n",
        "\n",
        "y_train = train_df[\"label_num\"]\n",
        "y_test = test_df[\"label_num\"]"
      ],
      "metadata": {
        "id": "GBTwWO_Fcat7"
      },
      "execution_count": 4,
      "outputs": []
    },
    {
      "cell_type": "code",
      "source": [
        "from sklearn.naive_bayes import MultinomialNB\n",
        "model = MultinomialNB()\n",
        "model.fit(X_train, y_train)\n",
        "\n",
        "from sklearn.metrics import confusion_matrix\n",
        "y_test_pred = model.predict(X_test)\n",
        "\n",
        "# Confusion Matrix\n",
        "print(confusion_matrix(y_test, y_test_pred))\n",
        "\n",
        "# Accuracy\n",
        "print(\"Accuracy:\", model.score(X_test, y_test))\n",
        "\n",
        "# Precision\n",
        "from sklearn.metrics import precision_score\n",
        "print(\"Precision:\", precision_score(y_test, y_test_pred))\n",
        "\n",
        "# Recall\n",
        "from sklearn.metrics import recall_score\n",
        "print(\"Recall:\", recall_score(y_test, y_test_pred))\n",
        "\n",
        "# AUC ROC Curve\n",
        "from sklearn.metrics import roc_auc_score\n",
        "print(\"AUC ROC Curve:\", roc_auc_score(y_test, y_test_pred))"
      ],
      "metadata": {
        "id": "jObC7vMSNVO3",
        "colab": {
          "base_uri": "https://localhost:8080/"
        },
        "outputId": "709e8749-bb94-4b8a-8e04-02b92032236d"
      },
      "execution_count": 5,
      "outputs": [
        {
          "output_type": "stream",
          "name": "stdout",
          "text": [
            "[[3868   92]\n",
            " [ 237 4052]]\n",
            "Accuracy: 0.9601163777427567\n",
            "Precision: 0.9777992277992278\n",
            "Recall: 0.9447423641874563\n",
            "AUC ROC Curve: 0.9607550204775666\n"
          ]
        }
      ]
    },
    {
      "cell_type": "code",
      "source": [
        "# Save trained model to pickle file\n",
        "import pickle\n",
        "path = \"/content/drive/MyDrive/Collab_Files/SPAM/Models/NB.pkl\"\n",
        "pickle.dump(model, open(path, \"wb\"))"
      ],
      "metadata": {
        "id": "GqQ4_xqat4i8"
      },
      "execution_count": 7,
      "outputs": []
    }
  ]
}