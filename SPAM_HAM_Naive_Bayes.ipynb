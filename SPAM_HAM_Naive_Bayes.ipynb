{
  "nbformat": 4,
  "nbformat_minor": 0,
  "metadata": {
    "colab": {
      "provenance": [],
      "authorship_tag": "ABX9TyPJAHaJH92uz2pZdAz756eL",
      "include_colab_link": true
    },
    "kernelspec": {
      "name": "python3",
      "display_name": "Python 3"
    },
    "language_info": {
      "name": "python"
    }
  },
  "cells": [
    {
      "cell_type": "markdown",
      "metadata": {
        "id": "view-in-github",
        "colab_type": "text"
      },
      "source": [
        "<a href=\"https://colab.research.google.com/github/samhzc/Summer-2025-ECE-597-Group10/blob/main/SPAM_HAM_Naive_Bayes.ipynb\" target=\"_parent\"><img src=\"https://colab.research.google.com/assets/colab-badge.svg\" alt=\"Open In Colab\"/></a>"
      ]
    },
    {
      "cell_type": "code",
      "source": [
        "import kagglehub\n",
        "import pandas as pd\n",
        "import numpy as np\n",
        "import nltk\n",
        "import re\n",
        "from nltk.tokenize import word_tokenize\n",
        "from nltk.corpus import stopwords\n",
        "from nltk.stem import WordNetLemmatizer\n",
        "nltk.download('punkt_tab')\n",
        "nltk.download('stopwords')\n",
        "nltk.download('wordnet')\n",
        "from sklearn.model_selection import train_test_split"
      ],
      "metadata": {
        "colab": {
          "base_uri": "https://localhost:8080/"
        },
        "id": "vLtjKnGeBf84",
        "outputId": "066eac5b-b127-4cdf-cdd5-27b17d70318b"
      },
      "execution_count": 44,
      "outputs": [
        {
          "output_type": "stream",
          "name": "stderr",
          "text": [
            "[nltk_data] Downloading package punkt_tab to /root/nltk_data...\n",
            "[nltk_data]   Package punkt_tab is already up-to-date!\n",
            "[nltk_data] Downloading package stopwords to /root/nltk_data...\n",
            "[nltk_data]   Package stopwords is already up-to-date!\n",
            "[nltk_data] Downloading package wordnet to /root/nltk_data...\n",
            "[nltk_data]   Package wordnet is already up-to-date!\n"
          ]
        }
      ]
    },
    {
      "cell_type": "code",
      "execution_count": 23,
      "metadata": {
        "colab": {
          "base_uri": "https://localhost:8080/"
        },
        "id": "1bIK_OnSBN2F",
        "outputId": "e71e6a80-29fd-4f3e-9fd6-63ef3ba30d24"
      },
      "outputs": [
        {
          "output_type": "stream",
          "name": "stdout",
          "text": [
            "Drive already mounted at /content/drive; to attempt to forcibly remount, call drive.mount(\"/content/drive\", force_remount=True).\n"
          ]
        }
      ],
      "source": [
        "# Dataset can be found here: https://www.kaggle.com/datasets/venky73/spam-mails-dataset\n",
        "\n",
        "from google.colab import drive\n",
        "drive.mount('/content/drive')\n",
        "\n",
        "df = pd.read_csv('/content/drive/MyDrive/Collab_Files/SPAM/spam_ham_dataset.csv')"
      ]
    },
    {
      "cell_type": "markdown",
      "source": [
        "### Data Preprocessing"
      ],
      "metadata": {
        "id": "DOUTp-ECFTRv"
      }
    },
    {
      "cell_type": "code",
      "source": [
        "df['text'] = df['text'].str.lower()\n",
        "\n",
        "# Clean URLs special characters\n",
        "def clean_text(text):\n",
        "    text = re.sub(r'\\S+@\\S+', ' ', text)  # remove email addresses\n",
        "    text = re.sub(r'http\\S+|www\\S+', ' ', text)  # remove URLs\n",
        "    text = re.sub(r'\\d+', ' ', text)  # remove numbers\n",
        "    text = re.sub(r'[^\\w\\s]', ' ', text)  # remove punctuation\n",
        "    text = re.sub(r'\\s+', ' ', text).strip()  # remove extra whitespace\n",
        "    text = re.sub(r'subject', '', text).strip()# remove subject\n",
        "    return text\n",
        "\n",
        "df['text'] = df['text'].apply(clean_text)\n",
        "\n",
        "# Stop words + Lemmatization = Tokenize\n",
        "stop_words = set(stopwords.words('english'))\n",
        "lemmatizer = WordNetLemmatizer()\n",
        "\n",
        "def tokenize_and_lemmatize(text):\n",
        "    tokens = nltk.word_tokenize(text)\n",
        "    tokens = [lemmatizer.lemmatize(word) for word in tokens if word not in stop_words]\n",
        "    return ' '.join(tokens)\n",
        "\n",
        "df['text'] = df['text'].apply(tokenize_and_lemmatize)"
      ],
      "metadata": {
        "id": "y2OVtgTwEBlb"
      },
      "execution_count": 26,
      "outputs": []
    },
    {
      "cell_type": "markdown",
      "source": [
        "### Train Test Split\n"
      ],
      "metadata": {
        "id": "GI0h9YUJIuBW"
      }
    },
    {
      "cell_type": "code",
      "source": [
        "X = df['text']\n",
        "y = df['label_num']\n",
        "\n",
        "X_train, X_test, y_train, y_test = train_test_split(\n",
        "    X, y,\n",
        "    test_size=0.2,\n",
        "    random_state=42,\n",
        "    stratify=y  # Keeps class distribution balanced\n",
        ")"
      ],
      "metadata": {
        "id": "jp5iZuwHI0_R"
      },
      "execution_count": 48,
      "outputs": []
    },
    {
      "cell_type": "markdown",
      "source": [
        "### Naive Bayes"
      ],
      "metadata": {
        "id": "OrQj0FPlIq61"
      }
    },
    {
      "cell_type": "code",
      "source": [
        "# Get vocabulary, vectorize text\n",
        "V = set()\n",
        "for i in range(len(X_train)):\n",
        "    V.update(X_train.iloc[i].split())\n",
        "\n",
        "vocab_list = sorted(V)\n",
        "word2idx = {word: idx for idx, word in enumerate(vocab_list)}\n",
        "\n",
        "# N-samples by V matrix\n",
        "vectorized_X_train = np.zeros((len(X_train), len(V)))\n",
        "\n",
        "for i, text in enumerate(X_train):\n",
        "    for word in text.split():\n",
        "        vectorized_X_train[i, word2idx[word]] += 1\n",
        "\n",
        "vectorized_X_test = np.zeros((len(X_test), len(vocab_list)))\n",
        "\n",
        "for i, text in enumerate(X_test):\n",
        "    for word in text.split():\n",
        "        if word in word2idx:\n",
        "            vectorized_X_test[i, word2idx[word]] += 1"
      ],
      "metadata": {
        "id": "XBPes5TpImQJ"
      },
      "execution_count": 49,
      "outputs": []
    },
    {
      "cell_type": "code",
      "source": [
        "from sklearn.naive_bayes import MultinomialNB\n",
        "model = MultinomialNB()\n",
        "model.fit(vectorized_X_train, y_train)\n",
        "print(\"Accuracy:\", model.score(vectorized_X_test, y_test))"
      ],
      "metadata": {
        "colab": {
          "base_uri": "https://localhost:8080/"
        },
        "id": "jObC7vMSNVO3",
        "outputId": "65794b78-b2c1-40f2-94d0-1c7793ed0abd"
      },
      "execution_count": 50,
      "outputs": [
        {
          "output_type": "stream",
          "name": "stdout",
          "text": [
            "Accuracy: 0.9729468599033816\n"
          ]
        }
      ]
    }
  ]
}