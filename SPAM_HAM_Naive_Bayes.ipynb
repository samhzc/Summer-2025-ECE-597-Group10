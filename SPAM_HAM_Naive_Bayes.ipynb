{
  "nbformat": 4,
  "nbformat_minor": 0,
  "metadata": {
    "colab": {
      "provenance": [],
      "authorship_tag": "ABX9TyNAvCu5F2YmdOWXNVHy/aTQ",
      "include_colab_link": true
    },
    "kernelspec": {
      "name": "python3",
      "display_name": "Python 3"
    },
    "language_info": {
      "name": "python"
    }
  },
  "cells": [
    {
      "cell_type": "markdown",
      "metadata": {
        "id": "view-in-github",
        "colab_type": "text"
      },
      "source": [
        "<a href=\"https://colab.research.google.com/github/samhzc/Summer-2025-ECE-597-Group10/blob/main/SPAM_HAM_Naive_Bayes.ipynb\" target=\"_parent\"><img src=\"https://colab.research.google.com/assets/colab-badge.svg\" alt=\"Open In Colab\"/></a>"
      ]
    },
    {
      "cell_type": "markdown",
      "source": [
        "# SPAM/HAM_Naive_Bayes\n",
        "#### Overview\n",
        "This notebook performs data preproccesing, partitioning and feature extraction for SPAM/HAM classification. It then performs a basic POC naives bayes classification.\n",
        "\n",
        "### Link to Output Data\n",
        "https://drive.google.com/drive/folders/1-brvtaq8TE4hl7w5rx1o7Xcq3x59Jn3A?usp=sharing\n",
        "\n",
        "### Preproccesing\n",
        "The data proccessing removes special characters, addresses and URLs, lowercases every character, removes stopwords and performs lemmatization.\n",
        "\n",
        "### Feature Extraction\n",
        "The vocabulary set is pruned to include the 99th percentile of vocabulary based on per class tf-idf score.\n"
      ],
      "metadata": {
        "id": "v06c4EgocVc2"
      }
    },
    {
      "cell_type": "code",
      "source": [
        "import kagglehub\n",
        "import pandas as pd\n",
        "import numpy as np\n",
        "import nltk\n",
        "import re\n",
        "from nltk.tokenize import word_tokenize\n",
        "from nltk.corpus import stopwords\n",
        "from nltk.stem import WordNetLemmatizer\n",
        "nltk.download('punkt_tab')\n",
        "nltk.download('stopwords')\n",
        "nltk.download('wordnet')\n",
        "from sklearn.model_selection import train_test_split"
      ],
      "metadata": {
        "colab": {
          "base_uri": "https://localhost:8080/"
        },
        "id": "vLtjKnGeBf84",
        "outputId": "12620ee8-02aa-4644-9c45-e4b1375b649d"
      },
      "execution_count": 1,
      "outputs": [
        {
          "output_type": "stream",
          "name": "stderr",
          "text": [
            "[nltk_data] Downloading package punkt_tab to /root/nltk_data...\n",
            "[nltk_data]   Package punkt_tab is already up-to-date!\n",
            "[nltk_data] Downloading package stopwords to /root/nltk_data...\n",
            "[nltk_data]   Package stopwords is already up-to-date!\n",
            "[nltk_data] Downloading package wordnet to /root/nltk_data...\n",
            "[nltk_data]   Package wordnet is already up-to-date!\n"
          ]
        }
      ]
    },
    {
      "cell_type": "code",
      "execution_count": 2,
      "metadata": {
        "colab": {
          "base_uri": "https://localhost:8080/"
        },
        "id": "1bIK_OnSBN2F",
        "outputId": "24335780-5a5c-4faa-9da2-c129ecb83d05"
      },
      "outputs": [
        {
          "output_type": "stream",
          "name": "stdout",
          "text": [
            "Drive already mounted at /content/drive; to attempt to forcibly remount, call drive.mount(\"/content/drive\", force_remount=True).\n"
          ]
        }
      ],
      "source": [
        "# Final Dataset source from: https://www.kaggle.com/datasets/naserabdullahalam/phishing-email-dataset?select=phishing_email.csv\n",
        "from google.colab import drive\n",
        "drive.mount('/content/drive')\n",
        "\n",
        "df = pd.read_csv('/content/drive/MyDrive/Collab_Files/SPAM/SPAM_Final_Dataset/archive/phishing_email.csv')"
      ]
    },
    {
      "cell_type": "markdown",
      "source": [
        "### Data Preprocessing"
      ],
      "metadata": {
        "id": "DOUTp-ECFTRv"
      }
    },
    {
      "cell_type": "code",
      "source": [
        "df['text'] = df['text_combined']\n",
        "df = df.drop(columns=['text_combined'])\n",
        "df['text'] = df['text'].str.lower()\n",
        "\n",
        "# Clean URLs special characters\n",
        "def clean_text(text):\n",
        "    text = re.sub(r'\\S+@\\S+', ' ', text)  # remove email addresses\n",
        "    text = re.sub(r'http\\S+|www\\S+', ' ', text)  # remove URLs\n",
        "    text = re.sub(r'\\d+', ' ', text)  # remove numbers\n",
        "    text = re.sub(r'[^\\w\\s]', ' ', text)  # remove punctuation\n",
        "    text = re.sub(r'\\s+', ' ', text).strip()  # remove extra whitespace\n",
        "    text = re.sub(r'subject', '', text).strip()# remove subject\n",
        "    return text\n",
        "\n",
        "df['text'] = df['text'].apply(clean_text)\n",
        "\n",
        "# Stop words + Lemmatization = Tokenize\n",
        "stop_words = set(stopwords.words('english'))\n",
        "lemmatizer = WordNetLemmatizer()\n",
        "\n",
        "def tokenize_and_lemmatize(text):\n",
        "    tokens = nltk.word_tokenize(text)\n",
        "    tokens = [lemmatizer.lemmatize(word) for word in tokens if word not in stop_words]\n",
        "    return ' '.join(tokens)\n",
        "\n",
        "df['text'] = df['text'].apply(tokenize_and_lemmatize)"
      ],
      "metadata": {
        "id": "y2OVtgTwEBlb"
      },
      "execution_count": 3,
      "outputs": []
    },
    {
      "cell_type": "code",
      "source": [
        "df['label_num'] = df['label']\n",
        "df.drop(columns=['label'], inplace=True)"
      ],
      "metadata": {
        "id": "iaza6kXIYdAG"
      },
      "execution_count": 4,
      "outputs": []
    },
    {
      "cell_type": "markdown",
      "source": [
        "### Train Test Split\n"
      ],
      "metadata": {
        "id": "GI0h9YUJIuBW"
      }
    },
    {
      "cell_type": "code",
      "source": [
        "X = df['text']\n",
        "y = df['label_num']\n",
        "\n",
        "X_train, X_test, y_train, y_test = train_test_split(\n",
        "    X, y,\n",
        "    test_size=0.2,\n",
        "    random_state=42,\n",
        "    stratify=y  # Keeps class distribution balanced\n",
        ")"
      ],
      "metadata": {
        "id": "jp5iZuwHI0_R"
      },
      "execution_count": 5,
      "outputs": []
    },
    {
      "cell_type": "markdown",
      "source": [
        "### Generate Class wise TF-IDF Rankings using Train Set to Prune Vocab"
      ],
      "metadata": {
        "id": "rx5BAVtKNY1D"
      }
    },
    {
      "cell_type": "code",
      "source": [
        "def pruned_vocab(input_data, percentile):\n",
        "  # Build vocabulary set\n",
        "  V = set()\n",
        "  idf = {}\n",
        "  tf = {}\n",
        "\n",
        "  for i in range(len(input_data)):\n",
        "    terms = input_data.iloc[i].split()\n",
        "    V.update(terms)\n",
        "    tf[i] = {}\n",
        "    for term in terms:\n",
        "        if term not in idf:\n",
        "            idf[term] = 0\n",
        "        idf[term] += 1\n",
        "\n",
        "        if term not in tf[i]:\n",
        "            tf[i][term] = 0\n",
        "        tf[i][term] += 1\n",
        "\n",
        "  # Generate IDF for each term by dividing by total number of documents\n",
        "  N = len(input_data)\n",
        "  for term in idf:\n",
        "      idf[term] = np.log(N / idf[term])\n",
        "\n",
        "  # Find TF-IDF threshold (Xth percentile)\n",
        "  #print(len(input_data))\n",
        "  tf_idfs = []\n",
        "  for i in range(len(input_data)):\n",
        "      for term in tf[i]:\n",
        "          tf_idfs.append(tf[i][term] * idf[term])\n",
        "\n",
        "  threshold = np.percentile(tf_idfs, percentile)\n",
        "\n",
        "  # prune by tf-idf\n",
        "  V_pruned = set()\n",
        "  for i in range(len(input_data)):\n",
        "      for term in tf[i]:\n",
        "          tf_idf = tf[i][term] * idf[term]\n",
        "          if tf_idf >= threshold:\n",
        "              V_pruned.add(term)\n",
        "\n",
        "  return V_pruned"
      ],
      "metadata": {
        "id": "JWwKC8cUTHxb"
      },
      "execution_count": 6,
      "outputs": []
    },
    {
      "cell_type": "code",
      "source": [
        "# Get SPAM pruned Vocab\n",
        "train_spam = X_train[y_train == 1]\n",
        "V_spam = pruned_vocab(train_spam, 99)\n",
        "\n",
        "# Get Ham pruned Vocab\n",
        "train_ham = X_train[y_train == 0]\n",
        "V_ham = pruned_vocab(train_ham, 99)\n",
        "\n",
        "# Combine Spam and Ham Vocab\n",
        "V = V_spam.union(V_ham)"
      ],
      "metadata": {
        "id": "2DWwsMYEQ8cU"
      },
      "execution_count": 7,
      "outputs": []
    },
    {
      "cell_type": "markdown",
      "source": [],
      "metadata": {
        "id": "S6OTbNKLYvmM"
      }
    },
    {
      "cell_type": "markdown",
      "source": [
        "### Naive Bayes"
      ],
      "metadata": {
        "id": "OrQj0FPlIq61"
      }
    },
    {
      "cell_type": "code",
      "source": [
        "vocab_list = sorted(V)"
      ],
      "metadata": {
        "id": "XBPes5TpImQJ"
      },
      "execution_count": 8,
      "outputs": []
    },
    {
      "cell_type": "code",
      "source": [
        "word2idx = {word: idx for idx, word in enumerate(vocab_list)}\n",
        "\n",
        "# N-samples by V matrix\n",
        "vectorized_X_train = np.zeros((len(X_train), len(V)))\n",
        "\n",
        "for i, text in enumerate(X_train):\n",
        "    for word in text.split():\n",
        "      if word in word2idx:\n",
        "        vectorized_X_train[i, word2idx[word]] += 1\n",
        "\n",
        "vectorized_X_test = np.zeros((len(X_test), len(vocab_list)))\n",
        "\n",
        "for i, text in enumerate(X_test):\n",
        "    for word in text.split():\n",
        "        if word in word2idx:\n",
        "            vectorized_X_test[i, word2idx[word]] += 1"
      ],
      "metadata": {
        "id": "1gTiB1ovLpev"
      },
      "execution_count": 9,
      "outputs": []
    },
    {
      "cell_type": "code",
      "source": [
        "from sklearn.naive_bayes import MultinomialNB\n",
        "model = MultinomialNB()\n",
        "model.fit(vectorized_X_train, y_train)\n",
        "\n",
        "from sklearn.metrics import confusion_matrix\n",
        "y_test_pred = model.predict(vectorized_X_test)\n",
        "\n",
        "# Confusion Matrix\n",
        "print(confusion_matrix(y_test, y_test_pred))\n",
        "\n",
        "# Accuracy\n",
        "print(\"Accuracy:\", model.score(vectorized_X_test, y_test))\n",
        "\n",
        "# Precision\n",
        "from sklearn.metrics import precision_score\n",
        "print(\"Precision:\", precision_score(y_test, y_test_pred))\n",
        "\n",
        "# Recall\n",
        "from sklearn.metrics import recall_score\n",
        "print(\"Recall:\", recall_score(y_test, y_test_pred))\n",
        "\n",
        "# AUC ROC Curve\n",
        "from sklearn.metrics import roc_auc_score\n",
        "print(\"AUC ROC Curve:\", roc_auc_score(y_test, y_test_pred))"
      ],
      "metadata": {
        "id": "jObC7vMSNVO3",
        "colab": {
          "base_uri": "https://localhost:8080/"
        },
        "outputId": "476ebcb5-1c60-495b-bae5-c687c5e8d225"
      },
      "execution_count": 10,
      "outputs": [
        {
          "output_type": "stream",
          "name": "stdout",
          "text": [
            "[[7733  186]\n",
            " [ 560 8019]]\n",
            "Accuracy: 0.9547823978664081\n",
            "Precision: 0.9773308957952468\n",
            "Recall: 0.9347243268446206\n",
            "AUC ROC Curve: 0.9556182563633382\n"
          ]
        }
      ]
    },
    {
      "cell_type": "markdown",
      "source": [
        "### Export Proccessed and Pruned Data set"
      ],
      "metadata": {
        "id": "B5TXcCIhaPpO"
      }
    },
    {
      "cell_type": "code",
      "source": [
        "# Loop through train data\n",
        "for i in range(len(X_train)):\n",
        "  terms = X_train.iloc[i].split()\n",
        "  # Remove all terms not in pruned vocabulary\n",
        "  X_train.iloc[i] = ' '.join([term for term in terms if term in V])\n",
        "\n",
        "# append labels into df\n",
        "train_df = pd.concat([X_train, y_train], axis=1)\n",
        "# Export as csv\n",
        "pd.DataFrame(train_df).to_csv('/content/drive/MyDrive/Collab_Files/SPAM/SPAM_Final_Dataset/train_df.csv', index=False)\n",
        "\n",
        "# Loop through test data\n",
        "for i in range(len(X_test)):\n",
        "  terms = X_test.iloc[i].split()\n",
        "  # Remove all terms not in pruned vocabulary\n",
        "  X_test.iloc[i] = ' '.join([term for term in terms if term in V])\n",
        "\n",
        "# append labels into df\n",
        "test_df = pd.concat([X_test, y_test], axis=1)\n",
        "# Export as csv\n",
        "pd.DataFrame(test_df).to_csv('/content/drive/MyDrive/Collab_Files/SPAM/SPAM_Final_Dataset/test_df.csv', index=False)"
      ],
      "metadata": {
        "id": "t6j9HXdGaTqH"
      },
      "execution_count": 11,
      "outputs": []
    }
  ]
}